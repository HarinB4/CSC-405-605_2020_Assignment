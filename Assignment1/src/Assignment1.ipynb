{
 "cells": [
  {
   "cell_type": "markdown",
   "metadata": {},
   "source": [
    "# CSC 405 Assignment 1\n",
    " Harinder Badesha"
   ]
  },
  {
   "cell_type": "markdown",
   "metadata": {},
   "source": [
    "## Open up and read the data file to a dictionary seperated by tab. \n"
   ]
  },
  {
   "cell_type": "code",
   "execution_count": 1,
   "metadata": {},
   "outputs": [],
   "source": [
    "import csv\n",
    "import random\n",
    "\n",
    "#reads data file and puts into dictionary\n",
    "tsv_file = open(\"../data/fall-20-students.tsv\")\n",
    "reader = csv.DictReader(tsv_file, delimiter=\"\\t\")"
   ]
  },
  {
   "cell_type": "markdown",
   "metadata": {},
   "source": [
    "## Puts the students name from the dictionary into a list and checks to see if names are succesfully put into list."
   ]
  },
  {
   "cell_type": "code",
   "execution_count": 2,
   "metadata": {},
   "outputs": [
    {
     "name": "stdout",
     "output_type": "stream",
     "text": [
      "['Ali Altamimi', 'Harinderveer Badesha', 'Solomon Berhe', 'Christopher Brantley', 'Nadia Doudou', 'Andrew Kawabata', 'Jason Manning', 'Alex Penaloza', 'Francis Perez', 'Amantii Samson', 'Isaac Taylor', 'Quinn Tjin-a-soe', 'Katelynn Urgitus', 'Jamison Valentine', 'Tyler Wallschleger', 'Serena Wisnewski', 'Raiana Zaman', 'Himaja Avula', 'Harika Cherukuri', 'Mustafa Dere', 'Renhua Guo', 'Rashmi Hassan Udaya Kumar', 'Ritu Joshi', 'Samhitha Kachapuram', 'Sanam Khalili', 'Shravya Muttineni', 'Nikitha Narsing', 'Vyankteshprasad Sathe', 'Tingyu Shi', 'Carrie Stott', 'Pragna Tarali Talluri', 'Sadhana Thummalapenta', 'Amulya Yadagani', 'Peter Yuan', 'Xinrui Zhang']\n"
     ]
    }
   ],
   "source": [
    "Name_list = []\n",
    "\n",
    "#takes \"name\" column from dictionary into a list\n",
    "for row in reader:\n",
    "    Name_list.append(row['Student'])\n",
    "\n",
    "#check to see if list is filled with just student names.     \n",
    "print(Name_list)    "
   ]
  },
  {
   "cell_type": "markdown",
   "metadata": {},
   "source": [
    "## Shuffles the list so it can be \"randomized\" everytime and puts it to a function to be called later. "
   ]
  },
  {
   "cell_type": "code",
   "execution_count": 3,
   "metadata": {},
   "outputs": [
    {
     "name": "stdout",
     "output_type": "stream",
     "text": [
      "['Tyler Wallschleger', 'Sanam Khalili', 'Ali Altamimi', 'Tingyu Shi', 'Andrew Kawabata', 'Himaja Avula', 'Xinrui Zhang', 'Amantii Samson', 'Sadhana Thummalapenta', 'Serena Wisnewski', 'Katelynn Urgitus', 'Jamison Valentine', 'Shravya Muttineni', 'Francis Perez', 'Ritu Joshi', 'Vyankteshprasad Sathe', 'Amulya Yadagani', 'Samhitha Kachapuram', 'Nadia Doudou', 'Quinn Tjin-a-soe', 'Mustafa Dere', 'Nikitha Narsing', 'Solomon Berhe', 'Harinderveer Badesha', 'Pragna Tarali Talluri', 'Peter Yuan', 'Jason Manning', 'Christopher Brantley', 'Isaac Taylor', 'Raiana Zaman', 'Carrie Stott', 'Renhua Guo', 'Rashmi Hassan Udaya Kumar', 'Alex Penaloza', 'Harika Cherukuri']\n"
     ]
    }
   ],
   "source": [
    "def shuffle(l):\n",
    "    random.shuffle(l)\n",
    "    return l\n",
    "\n",
    "#check to see if list is shuffle correctly\n",
    "print(shuffle(Name_list))"
   ]
  },
  {
   "cell_type": "markdown",
   "metadata": {},
   "source": [
    "## Function that splits the teams as fair as possible and prints the list that will be called later. "
   ]
  },
  {
   "cell_type": "code",
   "execution_count": 4,
   "metadata": {},
   "outputs": [],
   "source": [
    "def split(n,Name_list): \n",
    "    \n",
    "    #List comprehension that splits the list into number of chunks(group).\n",
    "    #iterates over every n number in the list and puts it in a group, n amount of times. \n",
    "    Teams = [Name_list[i::n]for i in range(n)]\n",
    "\n",
    "    \n",
    "    #Prints teams\n",
    "    i = 1\n",
    "    for row in Teams:\n",
    "        print(\"Team\",i,\":\")\n",
    "        print(row)\n",
    "        i = i + 1\n",
    "\n"
   ]
  },
  {
   "cell_type": "markdown",
   "metadata": {},
   "source": [
    "\n",
    "## Use \"my_variable\" to desired number of teams. Calls previous functions to shuffle and split the list into teams. "
   ]
  },
  {
   "cell_type": "code",
   "execution_count": 7,
   "metadata": {},
   "outputs": [
    {
     "name": "stdout",
     "output_type": "stream",
     "text": [
      "Team 1 :\n",
      "['Jamison Valentine', 'Isaac Taylor', 'Tyler Wallschleger', 'Raiana Zaman', 'Renhua Guo', 'Xinrui Zhang', 'Christopher Brantley']\n",
      "Team 2 :\n",
      "['Nadia Doudou', 'Solomon Berhe', 'Alex Penaloza', 'Carrie Stott', 'Francis Perez', 'Sadhana Thummalapenta', 'Jason Manning']\n",
      "Team 3 :\n",
      "['Amantii Samson', 'Sanam Khalili', 'Samhitha Kachapuram', 'Vyankteshprasad Sathe', 'Harinderveer Badesha', 'Katelynn Urgitus', 'Serena Wisnewski']\n",
      "Team 4 :\n",
      "['Tingyu Shi', 'Ali Altamimi', 'Rashmi Hassan Udaya Kumar', 'Andrew Kawabata', 'Quinn Tjin-a-soe', 'Harika Cherukuri', 'Pragna Tarali Talluri']\n",
      "Team 5 :\n",
      "['Peter Yuan', 'Mustafa Dere', 'Ritu Joshi', 'Shravya Muttineni', 'Himaja Avula', 'Amulya Yadagani', 'Nikitha Narsing']\n"
     ]
    }
   ],
   "source": [
    "my_variable = 5\n",
    "\n",
    "#Calls shuffle function to shuffle list for randomization\n",
    "Shuffle_team = shuffle(Name_list) \n",
    "\n",
    "#Calls split function to split the names into groups as close as possible\n",
    "split(my_variable,Shuffle_team)"
   ]
  },
  {
   "cell_type": "code",
   "execution_count": null,
   "metadata": {},
   "outputs": [],
   "source": []
  }
 ],
 "metadata": {
  "kernelspec": {
   "display_name": "Python 3",
   "language": "python",
   "name": "python3"
  },
  "language_info": {
   "codemirror_mode": {
    "name": "ipython",
    "version": 3
   },
   "file_extension": ".py",
   "mimetype": "text/x-python",
   "name": "python",
   "nbconvert_exporter": "python",
   "pygments_lexer": "ipython3",
   "version": "3.7.4"
  }
 },
 "nbformat": 4,
 "nbformat_minor": 2
}
