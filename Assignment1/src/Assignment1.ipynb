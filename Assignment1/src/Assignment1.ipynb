{
 "cells": [
  {
   "cell_type": "markdown",
   "metadata": {},
   "source": [
    "# CSC 405 Assignment 1\n",
    " Harinder Badesha"
   ]
  },
  {
   "cell_type": "markdown",
   "metadata": {},
   "source": [
    "## Open up and read the data file to a dictionary seperated by tab. \n"
   ]
  },
  {
   "cell_type": "code",
   "execution_count": 1,
   "metadata": {},
   "outputs": [],
   "source": [
    "import csv\n",
    "import random\n",
    "\n",
    "#reads data file and puts into dictionary\n",
    "tsv_file = open(\"../data/fall-20-students.tsv\")\n",
    "reader = csv.DictReader(tsv_file, delimiter=\"\\t\")"
   ]
  },
  {
   "cell_type": "markdown",
   "metadata": {},
   "source": [
    "## Puts the students name from the dictionary into a list and checks to see if names are succesfully put into list."
   ]
  },
  {
   "cell_type": "code",
   "execution_count": 2,
   "metadata": {},
   "outputs": [
    {
     "name": "stdout",
     "output_type": "stream",
     "text": [
      "['Ali Altamimi', 'Harinderveer Badesha', 'Solomon Berhe', 'Christopher Brantley', 'Nadia Doudou', 'Andrew Kawabata', 'Jason Manning', 'Alex Penaloza', 'Francis Perez', 'Amantii Samson', 'Isaac Taylor', 'Quinn Tjin-a-soe', 'Katelynn Urgitus', 'Jamison Valentine', 'Tyler Wallschleger', 'Serena Wisnewski', 'Raiana Zaman', 'Himaja Avula', 'Harika Cherukuri', 'Mustafa Dere', 'Renhua Guo', 'Rashmi Hassan Udaya Kumar', 'Ritu Joshi', 'Samhitha Kachapuram', 'Sanam Khalili', 'Shravya Muttineni', 'Nikitha Narsing', 'Vyankteshprasad Sathe', 'Tingyu Shi', 'Carrie Stott', 'Pragna Tarali Talluri', 'Sadhana Thummalapenta', 'Amulya Yadagani', 'Peter Yuan', 'Xinrui Zhang']\n"
     ]
    }
   ],
   "source": [
    "Name_list = []\n",
    "\n",
    "#takes \"name\" column from dictionary into a list\n",
    "for row in reader:\n",
    "    Name_list.append(row['Student'])\n",
    "\n",
    "#check to see if list is filled with just student names.     \n",
    "print(Name_list)    "
   ]
  },
  {
   "cell_type": "markdown",
   "metadata": {},
   "source": [
    "## Shuffles the list so it can be \"randomized\" everytime and puts it to a function to be called later. "
   ]
  },
  {
   "cell_type": "code",
   "execution_count": 3,
   "metadata": {},
   "outputs": [
    {
     "name": "stdout",
     "output_type": "stream",
     "text": [
      "['Mustafa Dere', 'Ali Altamimi', 'Raiana Zaman', 'Rashmi Hassan Udaya Kumar', 'Jamison Valentine', 'Francis Perez', 'Peter Yuan', 'Nikitha Narsing', 'Amantii Samson', 'Quinn Tjin-a-soe', 'Isaac Taylor', 'Jason Manning', 'Ritu Joshi', 'Samhitha Kachapuram', 'Renhua Guo', 'Xinrui Zhang', 'Himaja Avula', 'Carrie Stott', 'Tyler Wallschleger', 'Sadhana Thummalapenta', 'Pragna Tarali Talluri', 'Vyankteshprasad Sathe', 'Katelynn Urgitus', 'Tingyu Shi', 'Nadia Doudou', 'Andrew Kawabata', 'Serena Wisnewski', 'Shravya Muttineni', 'Alex Penaloza', 'Harika Cherukuri', 'Amulya Yadagani', 'Christopher Brantley', 'Harinderveer Badesha', 'Sanam Khalili', 'Solomon Berhe']\n"
     ]
    }
   ],
   "source": [
    "def shuffle(l):\n",
    "    random.shuffle(l)\n",
    "    return l\n",
    "\n",
    "#check to see if list is shuffle correctly\n",
    "print(shuffle(Name_list))"
   ]
  },
  {
   "cell_type": "markdown",
   "metadata": {},
   "source": [
    "## Function that splits the teams as fair as possible and prints the list that will be called later. "
   ]
  },
  {
   "cell_type": "code",
   "execution_count": 4,
   "metadata": {},
   "outputs": [],
   "source": [
    "def split(n,Name_list): \n",
    "    \n",
    "    #List comprehension that splits the list into number of chunks(group).\n",
    "    #iterates over every n number in the list and puts it in a group, n amount of times. \n",
    "    Teams = [Name_list[i::n]for i in range(n)]\n",
    "\n",
    "    \n",
    "    #Prints teams\n",
    "    i = 1\n",
    "    for row in Teams:\n",
    "        print(\"Team\",i,\":\")\n",
    "        print(row)\n",
    "        i = i + 1\n",
    "\n"
   ]
  },
  {
   "cell_type": "markdown",
   "metadata": {},
   "source": [
    "\n",
    "## Use \"my_variable\" to desired number of teams. Calls previous functions to shuffle and split the list into teams. "
   ]
  },
  {
   "cell_type": "code",
   "execution_count": 5,
   "metadata": {},
   "outputs": [
    {
     "name": "stdout",
     "output_type": "stream",
     "text": [
      "Team 1 :\n",
      "['Francis Perez', 'Nikitha Narsing', 'Ali Altamimi', 'Andrew Kawabata', 'Sadhana Thummalapenta', 'Mustafa Dere']\n",
      "Team 2 :\n",
      "['Pragna Tarali Talluri', 'Shravya Muttineni', 'Sanam Khalili', 'Isaac Taylor', 'Samhitha Kachapuram', 'Serena Wisnewski']\n",
      "Team 3 :\n",
      "['Christopher Brantley', 'Solomon Berhe', 'Peter Yuan', 'Himaja Avula', 'Tingyu Shi', 'Rashmi Hassan Udaya Kumar']\n",
      "Team 4 :\n",
      "['Katelynn Urgitus', 'Renhua Guo', 'Jason Manning', 'Raiana Zaman', 'Xinrui Zhang', 'Harinderveer Badesha']\n",
      "Team 5 :\n",
      "['Quinn Tjin-a-soe', 'Carrie Stott', 'Ritu Joshi', 'Jamison Valentine', 'Tyler Wallschleger', 'Harika Cherukuri']\n",
      "Team 6 :\n",
      "['Alex Penaloza', 'Nadia Doudou', 'Vyankteshprasad Sathe', 'Amantii Samson', 'Amulya Yadagani']\n"
     ]
    }
   ],
   "source": [
    "my_variable = 6\n",
    "\n",
    "#Calls shuffle function to shuffle list for randomization\n",
    "Shuffle_team = shuffle(Name_list) \n",
    "\n",
    "#Calls split function to split the names into groups as close as possible\n",
    "split(my_variable,Shuffle_team)"
   ]
  },
  {
   "cell_type": "code",
   "execution_count": null,
   "metadata": {},
   "outputs": [],
   "source": []
  }
 ],
 "metadata": {
  "kernelspec": {
   "display_name": "Python 3",
   "language": "python",
   "name": "python3"
  },
  "language_info": {
   "codemirror_mode": {
    "name": "ipython",
    "version": 3
   },
   "file_extension": ".py",
   "mimetype": "text/x-python",
   "name": "python",
   "nbconvert_exporter": "python",
   "pygments_lexer": "ipython3",
   "version": "3.7.4"
  }
 },
 "nbformat": 4,
 "nbformat_minor": 2
}
